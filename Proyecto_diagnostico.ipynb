{
  "nbformat": 4,
  "nbformat_minor": 0,
  "metadata": {
    "colab": {
      "provenance": [],
      "authorship_tag": "ABX9TyNkb2cu96DjYKU1S7mXR3kG",
      "include_colab_link": true
    },
    "kernelspec": {
      "name": "python3",
      "display_name": "Python 3"
    },
    "language_info": {
      "name": "python"
    }
  },
  "cells": [
    {
      "cell_type": "markdown",
      "metadata": {
        "id": "view-in-github",
        "colab_type": "text"
      },
      "source": [
        "<a href=\"https://colab.research.google.com/github/Lsilveyra80/Analisis_de_diagnostico/blob/main/Proyecto_diagnostico.ipynb\" target=\"_parent\"><img src=\"https://colab.research.google.com/assets/colab-badge.svg\" alt=\"Open In Colab\"/></a>"
      ]
    },
    {
      "cell_type": "code",
      "execution_count": null,
      "metadata": {
        "id": "UI7of_-Jm4sa"
      },
      "outputs": [],
      "source": [
        "import pandas as pd\n",
        "import matplotlib.pyplot as plt\n",
        "import seaborn as sns\n",
        "\n",
        "# Cargar el dataset\n",
        "url = \"https://raw.githubusercontent.com/Lsilveyra80/Analisis_de_diagnostico/main/Superstore_Sales_Fake.csv\"\n",
        "df = pd.read_csv(url)\n",
        "\n",
        "# ---------------------\n",
        "# Exploración de Datos\n",
        "# ---------------------\n",
        "print(\"Vista previa de los datos:\")\n",
        "print(df.head())\n",
        "\n",
        "# Relación entre descuento y ventas\n",
        "plt.figure(figsize=(8, 6))\n",
        "sns.scatterplot(data=df, x=\"Discount\", y=\"Sales\", hue=\"Region\", palette=\"Set2\")\n",
        "plt.title(\"Relación entre Descuento y Ventas\")\n",
        "plt.xlabel(\"Descuento\")\n",
        "plt.ylabel(\"Ventas\")\n",
        "plt.grid()\n",
        "plt.show()\n",
        "\n",
        "# Ventas por categoría y región\n",
        "category_region_sales = df.groupby([\"Category\", \"Region\"])[\"Sales\"].sum().unstack()\n",
        "print(\"\\nVentas por categoría y región:\")\n",
        "print(category_region_sales)\n",
        "\n",
        "# Visualización de ventas por categoría y región\n",
        "plt.figure(figsize=(10, 6))\n",
        "sns.heatmap(category_region_sales, annot=True, fmt=\".2f\", cmap=\"coolwarm\")\n",
        "plt.title(\"Mapa de Calor: Ventas por Categoría y Región\")\n",
        "plt.ylabel(\"Categoría\")\n",
        "plt.xlabel(\"Región\")\n",
        "plt.show()\n",
        "\n",
        "# Comparación de ventas y descuentos por categoría\n",
        "plt.figure(figsize=(10, 6))\n",
        "sns.boxplot(data=df, x=\"Category\", y=\"Sales\", hue=\"Region\", palette=\"muted\")\n",
        "plt.title(\"Distribución de Ventas por Categoría y Región\")\n",
        "plt.ylabel(\"Ventas\")\n",
        "plt.xlabel(\"Categoría\")\n",
        "plt.grid()\n",
        "plt.show()\n",
        "\n",
        "# ---------------------\n",
        "# Análisis de Correlaciones\n",
        "# ---------------------\n",
        "correlation_matrix = df[[\"Sales\", \"Discount\", \"Quantity\"]].corr()\n",
        "print(\"\\nMatriz de correlaciones:\")\n",
        "print(correlation_matrix)\n",
        "\n",
        "# Visualización de correlaciones\n",
        "plt.figure(figsize=(8, 6))\n",
        "sns.heatmap(correlation_matrix, annot=True, cmap=\"viridis\")\n",
        "plt.title(\"Matriz de Correlaciones\")\n",
        "plt.show()\n",
        "\n",
        "# ---------------------\n",
        "# Conclusión Inicial\n",
        "# ---------------------\n",
        "print(\"\\nConclusión:\")\n",
        "print(\"1. Revisa la matriz de correlación para identificar variables relacionadas con las ventas.\")\n",
        "print(\"2. La relación entre descuentos y ventas parece variar por región.\")\n"
      ]
    }
  ]
}